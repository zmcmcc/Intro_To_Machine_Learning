{
 "cells": [
  {
   "cell_type": "code",
   "execution_count": 1,
   "metadata": {},
   "outputs": [],
   "source": [
    "#Question 1\n",
    "#Access the viswiz dataset\n",
    "\n",
    "import os\n",
    "import json\n",
    "import requests\n",
    "import pandas as pd\n",
    "\n",
    "base_url = 'https://ivc.ischool.utexas.edu/VizWiz/data'\n",
    "split_train = 'train'\n",
    "split_test = 'test'\n",
    "split_val = 'val'\n",
    "trainFile = '%s/Annotations/%s.json'%(base_url, split_train)\n",
    "testFile = '%s/Annotations/%s.json'%(base_url, split_test)\n",
    "valFile = '%s/Annotations/%s.json'%(base_url, split_val)\n",
    "\n",
    "\n",
    "annotations_train = requests.get(trainFile, allow_redirects=True)\n",
    "annotations_val = requests.get(valFile, allow_redirects=True)\n",
    "annotations_test = requests.get(testFile, allow_redirects=True)"
   ]
  },
  {
   "cell_type": "code",
   "execution_count": 2,
   "metadata": {},
   "outputs": [],
   "source": [
    "#get raw train, validation and test data\n",
    "labels_train = annotations_train.json()\n",
    "labels_test = annotations_test.json()\n",
    "labels_val = annotations_val.json()\n",
    "\n",
    "image_name_train = []\n",
    "question_train = []\n",
    "label_train = []\n",
    "\n",
    "image_name_test = []\n",
    "question_test = []\n",
    "label_test = []\n",
    "\n",
    "image_name_val = []\n",
    "question_val = []\n",
    "label_val = []\n",
    "\n",
    "for vq in labels_train[0:5000]:\n",
    "    image_name_train.append(vq['image'])\n",
    "    question_train.append(vq['question'])\n",
    "    label_train.append(vq['answerable'])\n",
    "    \n",
    "for vq in labels_val[0:1000]:\n",
    "    image_name_val.append(vq['image'])\n",
    "    question_val.append(vq['question'])\n",
    "    label_val.append(vq['answerable'])\n",
    "    \n",
    "for vq in labels_test[0:100]:\n",
    "    image_name_test.append(vq['image'])\n",
    "    question_test.append(vq['question'])\n",
    "    #label_test.append(vq['answerable'])\n",
    "\n",
    "image_name_train = pd.DataFrame(image_name_train,columns=['image'])\n",
    "question_train = pd.DataFrame(question_train,columns=['question'])\n",
    "X_train_raw = pd.concat([image_name_train,question_train],axis=1)\n",
    "y_train_raw = pd.DataFrame(label_train,columns=['label'])\n",
    "\n",
    "image_name_test = pd.DataFrame(image_name_test,columns=['image'])\n",
    "question_test = pd.DataFrame(question_test,columns=['question'])\n",
    "X_test_raw = pd.concat([image_name_test,question_test],axis=1)\n",
    "y_test_raw = pd.DataFrame(label_test,columns=['label'])\n",
    "\n",
    "image_name_val = pd.DataFrame(image_name_val,columns=['image'])\n",
    "question_val = pd.DataFrame(question_val,columns=['question'])\n",
    "X_val_raw = pd.concat([image_name_val,question_val],axis=1)\n",
    "y_val_raw = pd.DataFrame(label_val,columns=['label'])"
   ]
  },
  {
   "cell_type": "code",
   "execution_count": 37,
   "metadata": {},
   "outputs": [
    {
     "data": {
      "text/plain": [
       "(4000, 1)"
      ]
     },
     "execution_count": 37,
     "metadata": {},
     "output_type": "execute_result"
    }
   ],
   "source": [
    "y_train = y_train_raw.loc[0:699].append(y_train_raw[800:3100]).append(y_train_raw[3200:3600]).append(y_train_raw[3800:4400])\n",
    "y_train.to_csv('y_train.csv',header=False)\n",
    "y_val = y_val_raw.loc[0:199].append(y_val_raw[300:900])\n",
    "y_val.to_csv('y_val.csv',header=False)\n"
   ]
  },
  {
   "cell_type": "code",
   "execution_count": 3,
   "metadata": {},
   "outputs": [],
   "source": [
    "# Use Microsoft's API to extract key tags from images\n",
    "subscription_key = ''\n",
    "vision_base_url = 'https://westus.api.cognitive.microsoft.com/vision/v1.0'\n",
    "vision_analyze_url = vision_base_url + '/analyze?'\n",
    "def extract_features(data):\n",
    "    return {\n",
    "        \"tags\": data[\"description\"]['tags']  \n",
    "    }\n",
    "def analyze_image(image_url):\n",
    "    # Microsoft API headers, params, etc\n",
    "    headers = {'Ocp-Apim-Subscription-key': subscription_key}\n",
    "    #params = {'visualfeatures': 'Adult,Categories,Description,Color,Faces,ImageType,Tags'}\n",
    "    params = {'visualfeatures': 'Description'}\n",
    "    data = {'url': image_url}\n",
    "    \n",
    "    # send request, get API response\n",
    "    response = requests.post(vision_analyze_url, headers=headers, params=params, json=data)\n",
    "    response.raise_for_status()\n",
    "    analysis = response.json()\n",
    "    return analysis\n",
    "\n",
    "def get_image_tags(X_raw,n):\n",
    "    image_tags = []\n",
    "    for i in range(100):\n",
    "        image_url = 'https://ivc.ischool.utexas.edu/VizWiz/data/Images/%s'%(X_raw['image'][i+n])\n",
    "        data = extract_features(analyze_image(image_url))\n",
    "        tag_i=[]\n",
    "        for item in data['tags']:\n",
    "            tag_i.append(item)\n",
    "        tag_i_join = ' '.join(tag_i)\n",
    "        #features = pd.DataFrame(extract_features(data))\n",
    "        image_tags.append(tag_i_join)\n",
    "    return image_tags"
   ]
  },
  {
   "cell_type": "code",
   "execution_count": 4,
   "metadata": {},
   "outputs": [],
   "source": [
    "#Use Microsoft's API to extract key phrases from the questions\n",
    "subscription_key_text = ''\n",
    "text_analytics_base_url = 'https://eastus.api.cognitive.microsoft.com/text/analytics/v2.0/'\n",
    "key_phrase_api_url = text_analytics_base_url + 'keyPhrases'\n",
    "\n",
    "def get_questions(question_raw,n):\n",
    "    questions = []\n",
    "    for i in range(100):\n",
    "        question_json = (question_raw['question'][i+n])\n",
    "        documents = {'documents': [{'id': i, 'text': question_json}]}\n",
    "        headers = {\"Ocp-Apim-Subscription-Key\": subscription_key_text}\n",
    "        response = requests.post(key_phrase_api_url,headers = headers,json=documents)\n",
    "        #questions.append(response.json()['documents'])\n",
    "        question_json = response.json()['documents']\n",
    "        question = pd.DataFrame(question_json)['keyPhrases']\n",
    "        question = question.tolist()[0]\n",
    "        tag_i=[]\n",
    "        for item in question:\n",
    "            tag_i.append(item)\n",
    "        question = ' '.join(tag_i)\n",
    "        questions.append(question)\n",
    "    \n",
    "    return questions"
   ]
  },
  {
   "cell_type": "code",
   "execution_count": 35,
   "metadata": {},
   "outputs": [
    {
     "name": "stdout",
     "output_type": "stream",
     "text": [
      "Wall time: 5min 11s\n"
     ]
    }
   ],
   "source": [
    "%%time\n",
    "#Write text image tags to .csv file\n",
    "import csv\n",
    "#Get training/valid/test data of image tags\n",
    "image_tags = []\n",
    "for i in range(42,44):\n",
    "    image_tags = get_image_tags(X_train_raw,100*i)\n",
    "    data = pd.DataFrame(data=image_tags)\n",
    "    data.to_csv('image_tags_train.csv',mode='a',header=False)\n",
    "\n",
    "#train (38,40)now skip 7-8 31-32 36-38 len = range(n-2)\n",
    "#val  skip 2-3"
   ]
  },
  {
   "cell_type": "code",
   "execution_count": 36,
   "metadata": {},
   "outputs": [
    {
     "name": "stdout",
     "output_type": "stream",
     "text": [
      "Wall time: 6 s\n"
     ]
    }
   ],
   "source": [
    "%%time\n",
    "#Write text question tags to .csv file\n",
    "#Get training/valid/test data of questions\n",
    "text_questions = []\n",
    "for i in range(42,44):\n",
    "    text_questions = get_questions(question_train,100*i)\n",
    "    data = pd.DataFrame(data=text_questions)\n",
    "    data.to_csv('questions_train.csv',mode='a',header=False)\n",
    "    #38,40"
   ]
  },
  {
   "cell_type": "code",
   "execution_count": null,
   "metadata": {},
   "outputs": [],
   "source": []
  }
 ],
 "metadata": {
  "kernelspec": {
   "display_name": "Python 3",
   "language": "python",
   "name": "python3"
  },
  "language_info": {
   "codemirror_mode": {
    "name": "ipython",
    "version": 3
   },
   "file_extension": ".py",
   "mimetype": "text/x-python",
   "name": "python",
   "nbconvert_exporter": "python",
   "pygments_lexer": "ipython3",
   "version": "3.6.4"
  }
 },
 "nbformat": 4,
 "nbformat_minor": 2
}
